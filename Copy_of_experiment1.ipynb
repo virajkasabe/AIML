{
  "nbformat": 4,
  "nbformat_minor": 0,
  "metadata": {
    "colab": {
      "provenance": [],
      "authorship_tag": "ABX9TyPjxbCAI94leVkU+Skm1zmo",
      "include_colab_link": true
    },
    "kernelspec": {
      "name": "python3",
      "display_name": "Python 3"
    },
    "language_info": {
      "name": "python"
    }
  },
  "cells": [
    {
      "cell_type": "markdown",
      "metadata": {
        "id": "view-in-github",
        "colab_type": "text"
      },
      "source": [
        "<a href=\"https://colab.research.google.com/github/virajkasabe/AIML/blob/main/Copy_of_experiment1.ipynb\" target=\"_parent\"><img src=\"https://colab.research.google.com/assets/colab-badge.svg\" alt=\"Open In Colab\"/></a>"
      ]
    },
    {
      "cell_type": "code",
      "execution_count": null,
      "metadata": {
        "id": "fLKxsZ9kadNr",
        "colab": {
          "base_uri": "https://localhost:8080/"
        },
        "outputId": "6b9755c7-69b0-4290-a8b0-afda9bff2373"
      },
      "outputs": [
        {
          "output_type": "stream",
          "name": "stdout",
          "text": [
            "redius25\n",
            "170.0\n"
          ]
        }
      ],
      "source": [
        "r=int(input(\"redius\"))\n",
        "area=r*2*3.4\n",
        "print(area)"
      ]
    }
  ]
}